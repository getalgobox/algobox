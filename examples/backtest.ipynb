{
 "cells": [
  {
   "cell_type": "code",
   "execution_count": 1,
   "metadata": {},
   "outputs": [],
   "source": [
    "import core\n",
    "import pandas as pd\n",
    "import numpy as np\n",
    "import datetime as dt"
   ]
  },
  {
   "cell_type": "code",
   "execution_count": 2,
   "metadata": {},
   "outputs": [],
   "source": [
    "dt_from = dt.datetime(year=2018, month=1, day=1)\n",
    "dt_to = dt.datetime(year=2018, month=12, day=1)\n",
    "\n",
    "data = core.ts_generator.CandleTimeSeriesGenerator(\n",
    "    dt_from,\n",
    "    dt_to,\n",
    "    core.time.FTSE(),\n",
    "    interval=\"1d\",\n",
    "    topic=\"IG:LLOY:1D\"\n",
    ")\n",
    "\n",
    "bt = core.backtest.manager.BacktestManager(\n",
    "    topic=\"IG:LLOY:1D\",\n",
    "    dt_from=dt_from,\n",
    "    dt_to=dt_to,\n",
    "    strat_id=1,\n",
    "    lookback_period=30,\n",
    "    data=data\n",
    ")\n",
    "bt.push_update = bt._dry_push_random_signal"
   ]
  },
  {
   "cell_type": "code",
   "execution_count": 3,
   "metadata": {},
   "outputs": [],
   "source": [
    "for context, update in bt:\n",
    "    pass"
   ]
  },
  {
   "cell_type": "code",
   "execution_count": 4,
   "metadata": {},
   "outputs": [
    {
     "data": {
      "text/plain": [
       "{'CASH_UPDATE', 'EQUITY_UPDATE', 'PRICE_UPDATE'}"
      ]
     },
     "execution_count": 4,
     "metadata": {},
     "output_type": "execute_result"
    }
   ],
   "source": [
    "{e.type for e in bt.observer.events}"
   ]
  },
  {
   "cell_type": "code",
   "execution_count": null,
   "metadata": {},
   "outputs": [],
   "source": []
  },
  {
   "cell_type": "code",
   "execution_count": null,
   "metadata": {},
   "outputs": [],
   "source": []
  }
 ],
 "metadata": {
  "kernelspec": {
   "display_name": "Python 3",
   "language": "python",
   "name": "python3"
  },
  "language_info": {
   "codemirror_mode": {
    "name": "ipython",
    "version": 3
   },
   "file_extension": ".py",
   "mimetype": "text/x-python",
   "name": "python",
   "nbconvert_exporter": "python",
   "pygments_lexer": "ipython3",
   "version": "3.6.8"
  }
 },
 "nbformat": 4,
 "nbformat_minor": 2
}
